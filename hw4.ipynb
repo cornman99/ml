{
  "nbformat": 4,
  "nbformat_minor": 0,
  "metadata": {
    "colab": {
      "name": "hw4.ipynb",
      "provenance": []
    },
    "kernelspec": {
      "name": "python3",
      "display_name": "Python 3"
    },
    "accelerator": "GPU"
  },
  "cells": [
    {
      "cell_type": "code",
      "metadata": {
        "colab": {
          "base_uri": "https://localhost:8080/"
        },
        "id": "IHpx5nV6plsJ",
        "outputId": "7f7e8b7e-2012-4521-8341-155b1125c5d6"
      },
      "source": [
        "cd  liblinear-2.42/python"
      ],
      "execution_count": null,
      "outputs": [
        {
          "output_type": "stream",
          "text": [
            "/gdrive/My Drive/ml/liblinear-2.42/python\n"
          ],
          "name": "stdout"
        }
      ]
    },
    {
      "cell_type": "code",
      "metadata": {
        "colab": {
          "base_uri": "https://localhost:8080/"
        },
        "id": "V-Oxw58atH97",
        "outputId": "614391c7-0ba0-40da-fb63-bc850788124c"
      },
      "source": [
        "!make"
      ],
      "execution_count": null,
      "outputs": [
        {
          "output_type": "stream",
          "text": [
            "make -C .. lib\n",
            "make[1]: Entering directory '/gdrive/My Drive/ml/liblinear-2.42'\n",
            "if [ \"Linux\" = \"Darwin\" ]; then \\\n",
            "\tSHARED_LIB_FLAG=\"-dynamiclib -Wl,-install_name,liblinear.so.4\"; \\\n",
            "else \\\n",
            "\tSHARED_LIB_FLAG=\"-shared -Wl,-soname,liblinear.so.4\"; \\\n",
            "fi; \\\n",
            "g++ ${SHARED_LIB_FLAG} linear.o newton.o blas/blas.a -o liblinear.so.4\n",
            "make[1]: Leaving directory '/gdrive/My Drive/ml/liblinear-2.42'\n"
          ],
          "name": "stdout"
        }
      ]
    },
    {
      "cell_type": "code",
      "metadata": {
        "id": "w0C7GCvUrPW8"
      },
      "source": [
        "from liblinearutil import *"
      ],
      "execution_count": null,
      "outputs": []
    },
    {
      "cell_type": "code",
      "metadata": {
        "colab": {
          "base_uri": "https://localhost:8080/"
        },
        "id": "0NIIzK9tOU7j",
        "outputId": "675741a4-e551-4f52-e55c-48a08fc275d4"
      },
      "source": [
        "cd .."
      ],
      "execution_count": null,
      "outputs": [
        {
          "output_type": "stream",
          "text": [
            "/gdrive/My Drive/ml\n"
          ],
          "name": "stdout"
        }
      ]
    },
    {
      "cell_type": "code",
      "metadata": {
        "id": "evLYSfJ3v6oC"
      },
      "source": [
        "\n",
        "f = open(\"hw4_train.dat.txt\")\n",
        "lines = f.readlines()\n",
        "y=[]\n",
        "x=[]\n",
        "for line in lines:\n",
        "    dict1={}\n",
        "    line=line.split()\n",
        "    y.append(float(line[6]))\n",
        "    line.pop()\n",
        "    for i in range(6) :\n",
        "        for j in range(i,6):\n",
        "            line.append(float(line[i])*float(line[j]))\n",
        "\n",
        "    dict1[1]=float(1)\n",
        "    for i in range(27):\n",
        "        dict1[i+2]=float(line[i])\n",
        "    x.append(dict1)\n",
        "\n"
      ],
      "execution_count": null,
      "outputs": []
    },
    {
      "cell_type": "code",
      "metadata": {
        "id": "BiCcuWtqFLHf"
      },
      "source": [
        "f = open(\"hw4_test.dat.txt\")\n",
        "lines = f.readlines()\n",
        "yt=[]\n",
        "xt=[]\n",
        "for line in lines:\n",
        "    dict1={}\n",
        "    line=line.split()\n",
        "    yt.append(float(line[6]))\n",
        "    line.pop()\n",
        "    for i in range(6) :\n",
        "        for j in range(i,6):\n",
        "            line.append(float(line[i])*float(line[j]))\n",
        "    dict1[1]=float(1)\n",
        "    for i in range(27):\n",
        "        dict1[i+2]=float(line[i])\n",
        "    xt.append(dict1)"
      ],
      "execution_count": null,
      "outputs": []
    },
    {
      "cell_type": "markdown",
      "metadata": {
        "id": "X0-QtquRJJ7F"
      },
      "source": [
        "16"
      ]
    },
    {
      "cell_type": "code",
      "metadata": {
        "colab": {
          "base_uri": "https://localhost:8080/"
        },
        "id": "ERXLbyq62cMg",
        "outputId": "12d54f45-cd78-495c-e26a-6839d082adbe"
      },
      "source": [
        "lam=[0.0001,0.01,1,100,10000]\n",
        "for i in lam:\n",
        "    \n",
        "    m = train(y, x,'-s 0 -e 0.000001 -c '+str(1/(i*2)) )\n",
        "    p_label, p_acc, p_val = predict(yt, xt, m)\n",
        "    eout=0\n",
        "    for j in range(len(yt)):\n",
        "        if(p_label[j]!=yt[j]):\n",
        "            eout+=1\n",
        "    print(eout)\n",
        "\n"
      ],
      "execution_count": null,
      "outputs": [
        {
          "output_type": "stream",
          "text": [
            "Accuracy = 86.6667% (260/300) (classification)\n",
            "40\n",
            "Accuracy = 87% (261/300) (classification)\n",
            "39\n",
            "Accuracy = 80.6667% (242/300) (classification)\n",
            "58\n",
            "Accuracy = 74.3333% (223/300) (classification)\n",
            "77\n",
            "Accuracy = 51.6667% (155/300) (classification)\n",
            "145\n"
          ],
          "name": "stdout"
        }
      ]
    },
    {
      "cell_type": "markdown",
      "metadata": {
        "id": "OSDtUBnmJLOC"
      },
      "source": [
        "17"
      ]
    },
    {
      "cell_type": "code",
      "metadata": {
        "colab": {
          "base_uri": "https://localhost:8080/"
        },
        "id": "jLhPxanuJMw-",
        "outputId": "edd2225e-a27e-44e2-a369-80ee1f660dad"
      },
      "source": [
        "lam=[0.0001,0.01,1,100,10000]\n",
        "for i in lam:\n",
        "    \n",
        "    m = train(y, x,'-s 0 -e 0.000001 -c '+str(1/(i*2)))\n",
        "    p_label, p_acc, p_val = predict(y, x, m)\n",
        "    ein=0\n",
        "    for j in range(len(y)):\n",
        "        if(p_label[j]!=y[j]):\n",
        "            ein+=1\n",
        "    print(ein)"
      ],
      "execution_count": null,
      "outputs": [
        {
          "output_type": "stream",
          "text": [
            "Accuracy = 91% (182/200) (classification)\n",
            "18\n",
            "Accuracy = 90% (180/200) (classification)\n",
            "20\n",
            "Accuracy = 87% (174/200) (classification)\n",
            "26\n",
            "Accuracy = 80.5% (161/200) (classification)\n",
            "39\n",
            "Accuracy = 46.5% (93/200) (classification)\n",
            "107\n"
          ],
          "name": "stdout"
        }
      ]
    },
    {
      "cell_type": "markdown",
      "metadata": {
        "id": "5rBxd2w9M1Du"
      },
      "source": [
        "18"
      ]
    },
    {
      "cell_type": "code",
      "metadata": {
        "colab": {
          "base_uri": "https://localhost:8080/"
        },
        "id": "g1MeBUB0MOl1",
        "outputId": "d154f783-833c-4414-a560-a19ce39f8a6e"
      },
      "source": [
        "lam=[0.0001,0.01,1,100,10000]\n",
        "for i in lam:\n",
        "    m = train(y[:120], x[:120],'-s 0 -e 0.000001 -c '+str(1/(i*2)))\n",
        "    p_label, p_acc, p_val = predict(y[120:], x[120:], m)\n",
        "    eval=0\n",
        "    for j in range(120,200):\n",
        "        if(p_label[j-120]!=y[j]):\n",
        "            eval+=1\n",
        "    print(eval)"
      ],
      "execution_count": null,
      "outputs": [
        {
          "output_type": "stream",
          "text": [
            "Accuracy = 80% (64/80) (classification)\n",
            "16\n",
            "Accuracy = 86.25% (69/80) (classification)\n",
            "11\n",
            "Accuracy = 76.25% (61/80) (classification)\n",
            "19\n",
            "Accuracy = 73.75% (59/80) (classification)\n",
            "21\n",
            "Accuracy = 42.5% (34/80) (classification)\n",
            "46\n"
          ],
          "name": "stdout"
        }
      ]
    },
    {
      "cell_type": "code",
      "metadata": {
        "colab": {
          "base_uri": "https://localhost:8080/"
        },
        "id": "_iqmqGgUM2ju",
        "outputId": "d2e9b4ff-beb1-406a-ac69-0a07da4c3b80"
      },
      "source": [
        "m = train(y[:120], x[:120],'-s 0 -e 0.000001 -c '+str(1/(0.01*2) ))\n",
        "p_label, p_acc, p_val = predict(yt, xt, m)\n",
        "eout=0\n",
        "for j in range(len(yt)):\n",
        "    if(p_label[j]!=yt[j]):\n",
        "        eout+=1\n",
        "print(eout/300)"
      ],
      "execution_count": null,
      "outputs": [
        {
          "output_type": "stream",
          "text": [
            "Accuracy = 85.6667% (257/300) (classification)\n",
            "0.14333333333333334\n"
          ],
          "name": "stdout"
        }
      ]
    },
    {
      "cell_type": "code",
      "metadata": {
        "colab": {
          "base_uri": "https://localhost:8080/"
        },
        "id": "VYFfgmC6Nux4",
        "outputId": "2cba6ab7-1589-4453-cbfe-7fdf029eb666"
      },
      "source": [
        "print(len(yt))"
      ],
      "execution_count": null,
      "outputs": [
        {
          "output_type": "stream",
          "text": [
            "300\n"
          ],
          "name": "stdout"
        }
      ]
    },
    {
      "cell_type": "markdown",
      "metadata": {
        "id": "cB3uxd5JurI9"
      },
      "source": [
        "19"
      ]
    },
    {
      "cell_type": "code",
      "metadata": {
        "colab": {
          "base_uri": "https://localhost:8080/"
        },
        "id": "aemko4JuupT7",
        "outputId": "23ba9fbf-891f-40a3-bdec-d2dbcd1b5158"
      },
      "source": [
        "m = train(y, x,'-s 0 -e 0.000001 -c '+str(1/(0.01*2) ))\n",
        "p_label, p_acc, p_val = predict(yt, xt, m)\n",
        "eout=0\n",
        "for j in range(len(yt)):\n",
        "    if(p_label[j]!=yt[j]):\n",
        "        eout+=1\n",
        "print(eout/300)"
      ],
      "execution_count": null,
      "outputs": [
        {
          "output_type": "stream",
          "text": [
            "Accuracy = 87% (261/300) (classification)\n",
            "0.13\n"
          ],
          "name": "stdout"
        }
      ]
    },
    {
      "cell_type": "markdown",
      "metadata": {
        "id": "1kum-rreRtEy"
      },
      "source": [
        "20"
      ]
    },
    {
      "cell_type": "code",
      "metadata": {
        "colab": {
          "base_uri": "https://localhost:8080/"
        },
        "id": "JN-i0ArtSvcJ",
        "outputId": "cb2c3883-12f5-4619-f08b-a2ee5225e971"
      },
      "source": [
        "lam=[0.0001,0.01,1,100,10000]\n",
        "for i in lam:\n",
        "    ecv=0\n",
        "    for j in range (5):\n",
        "        ycv=y[:j*40]+y[(j+1)*40:]\n",
        "        xcv=x[:j*40]+x[(j+1)*40:]\n",
        "        m = train(ycv,xcv,'-s 0 -e 0.000001 -c '+str(1/(i*2)))\n",
        "        p_label, p_acc, p_val = predict(y[j*40:(j+1)*40], x[j*40:(j+1)*40], m)\n",
        "        ein=0\n",
        "        for k in range((40)):\n",
        "            if(p_label[k]!=y[40*j+k]):\n",
        "                ein+=1\n",
        "        ecv+=ein\n",
        "    print(ecv/200)"
      ],
      "execution_count": null,
      "outputs": [
        {
          "output_type": "stream",
          "text": [
            "Accuracy = 87.5% (35/40) (classification)\n",
            "Accuracy = 77.5% (31/40) (classification)\n",
            "Accuracy = 95% (38/40) (classification)\n",
            "Accuracy = 77.5% (31/40) (classification)\n",
            "Accuracy = 90% (36/40) (classification)\n",
            "0.145\n",
            "Accuracy = 85% (34/40) (classification)\n",
            "Accuracy = 80% (32/40) (classification)\n",
            "Accuracy = 95% (38/40) (classification)\n",
            "Accuracy = 85% (34/40) (classification)\n",
            "Accuracy = 95% (38/40) (classification)\n",
            "0.12\n",
            "Accuracy = 80% (32/40) (classification)\n",
            "Accuracy = 90% (36/40) (classification)\n",
            "Accuracy = 90% (36/40) (classification)\n",
            "Accuracy = 80% (32/40) (classification)\n",
            "Accuracy = 82.5% (33/40) (classification)\n",
            "0.155\n",
            "Accuracy = 77.5% (31/40) (classification)\n",
            "Accuracy = 92.5% (37/40) (classification)\n",
            "Accuracy = 85% (34/40) (classification)\n",
            "Accuracy = 75% (30/40) (classification)\n",
            "Accuracy = 80% (32/40) (classification)\n",
            "0.18\n",
            "Accuracy = 42.5% (17/40) (classification)\n",
            "Accuracy = 65% (26/40) (classification)\n",
            "Accuracy = 47.5% (19/40) (classification)\n",
            "Accuracy = 40% (16/40) (classification)\n",
            "Accuracy = 45% (18/40) (classification)\n",
            "0.52\n"
          ],
          "name": "stdout"
        }
      ]
    },
    {
      "cell_type": "code",
      "metadata": {
        "colab": {
          "base_uri": "https://localhost:8080/"
        },
        "id": "AK90ueCmobEO",
        "outputId": "9bbfd1ef-24b6-45d1-e6b4-12fa7a71a66b"
      },
      "source": [
        "import numpy as np\r\n",
        "a=np.array([[2,2,2,2,2]])\r\n",
        "B = np.linalg.pinv(a)\r\n",
        "print(B)"
      ],
      "execution_count": null,
      "outputs": [
        {
          "output_type": "stream",
          "text": [
            "[[0.1]\n",
            " [0.1]\n",
            " [0.1]\n",
            " [0.1]\n",
            " [0.1]]\n"
          ],
          "name": "stdout"
        }
      ]
    }
  ]
}