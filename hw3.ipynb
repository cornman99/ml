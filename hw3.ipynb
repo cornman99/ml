{
  "nbformat": 4,
  "nbformat_minor": 0,
  "metadata": {
    "colab": {
      "name": "hw3.ipynb",
      "provenance": []
    },
    "kernelspec": {
      "name": "python3",
      "display_name": "Python 3"
    }
  },
  "cells": [
    {
      "cell_type": "markdown",
      "metadata": {
        "id": "a7PWBG_Vo7aB"
      },
      "source": [
        "14"
      ]
    },
    {
      "cell_type": "code",
      "metadata": {
        "id": "0eoEW38no6OX",
        "colab": {
          "base_uri": "https://localhost:8080/"
        },
        "outputId": "533c2059-27d7-4852-cbbb-a147b020236e"
      },
      "source": [
        "import numpy as np\n",
        "a=np.ones((1,1000))\n",
        "t=np.loadtxt(\"hw3_train.dat.txt\",dtype=np.float,delimiter='\\t')\n",
        "c = np.insert(t, 0, values=a, axis=1)\n",
        "b=c[:,11]\n",
        "c=np.delete(c, (11), axis=1)\n",
        "w=np.dot(c.transpose(),c)\n",
        "pinverse = np.linalg.inv(w)\n",
        "w1=np.dot(pinverse,c.transpose())\n",
        "win=np.dot(w1,b)\n",
        "error=0\n",
        "for i in range(1000):\n",
        "    temp=np.dot(win.transpose(),c[i])\n",
        "    temp2=temp-b[i]\n",
        "    error+=temp2*temp2\n",
        "print(win)\n",
        "print(error/1000)"
      ],
      "execution_count": null,
      "outputs": [
        {
          "output_type": "stream",
          "text": [
            "[ 0.00754448  0.14325775  0.03548979  0.02775754  0.02547401 -0.08173504\n",
            "  0.0807915  -0.10929449  0.07789522  0.16407524  0.14069183]\n",
            "0.6053223804672916\n"
          ],
          "name": "stdout"
        }
      ]
    },
    {
      "cell_type": "markdown",
      "metadata": {
        "id": "IOwdUUejuVPx"
      },
      "source": [
        "15"
      ]
    },
    {
      "cell_type": "code",
      "metadata": {
        "id": "k7_HfQqguWus",
        "colab": {
          "base_uri": "https://localhost:8080/"
        },
        "outputId": "85cabd31-cdd3-4e4a-d064-c66f89a1d456"
      },
      "source": [
        "import random\n",
        "a=np.ones((1,1000))\n",
        "t=np.loadtxt(\"hw3_train.dat.txt\",dtype=np.float,delimiter='\\t')\n",
        "c = np.insert(t, 0, values=a, axis=1)\n",
        "b=c[:,11]\n",
        "c=np.delete(c, (11), axis=1)\n",
        "round=0\n",
        "for i in range (1000):\n",
        "    random.seed(i)\n",
        "    w0=np.zeros((11))\n",
        "    each=0\n",
        "    if i%100==0:\n",
        "        print('nice')\n",
        "    while 1:\n",
        "        each+=1\n",
        "        r=random.randint(0,999)\n",
        "        temp=0.001*2*(b[r]-np.dot(w0.transpose(),c[r]))\n",
        "        w0+=temp*c[r]\n",
        "        error=0\n",
        "        for j in range (1000):\n",
        "            temp2=np.dot(w0.transpose(),c[j])\n",
        "            temp3=temp2-b[j]\n",
        "            error+=temp3*temp3\n",
        "        error/=1000\n",
        "        if (error<=1.01*0.6053223804672916):\n",
        "            break\n",
        "    round+=each\n",
        "print(round/1000)"
      ],
      "execution_count": null,
      "outputs": [
        {
          "output_type": "stream",
          "text": [
            "nice\n",
            "nice\n",
            "nice\n",
            "nice\n",
            "nice\n",
            "nice\n",
            "nice\n",
            "nice\n",
            "nice\n",
            "nice\n",
            "1879.335\n"
          ],
          "name": "stdout"
        }
      ]
    },
    {
      "cell_type": "markdown",
      "metadata": {
        "id": "uhyb9i0E6eNh"
      },
      "source": [
        "16"
      ]
    },
    {
      "cell_type": "code",
      "metadata": {
        "id": "P1uxaldX6dxu",
        "colab": {
          "base_uri": "https://localhost:8080/"
        },
        "outputId": "211e9bcb-98d1-46a0-e848-ee83d235e5d2"
      },
      "source": [
        "import math\n",
        "def sigmoid(x):\n",
        "    return 1/(1+math.exp(-x))\n",
        "a=np.ones((1,1000))\n",
        "t=np.loadtxt(\"hw3_train.dat.txt\",dtype=np.float,delimiter='\\t')\n",
        "c = np.insert(t, 0, values=a, axis=1)\n",
        "b=c[:,11]\n",
        "c=np.delete(c, (11), axis=1)\n",
        "ave=0\n",
        "for i in range (1000):\n",
        "    if i%100==0:\n",
        "        print('nice')\n",
        "    random.seed(i)\n",
        "    w0=np.zeros((11))\n",
        "    for k in range(500):\n",
        "        r=random.randint(0,999)\n",
        "        temp=(-1*b[r]*np.dot(w0.transpose(),c[r]))\n",
        "        temp=sigmoid(temp)\n",
        "        w0+=0.001*temp*b[r]*c[r]\n",
        "    ce=0\n",
        "    for j in range(1000):\n",
        "        temp=-1*b[j]*np.dot(w0.transpose(),c[j])\n",
        "        temp2=math.log(1+math.exp(temp))\n",
        "        ce+=temp2\n",
        "    ce/=1000\n",
        "    ave+=ce\n",
        "print(ave/1000)\n"
      ],
      "execution_count": null,
      "outputs": [
        {
          "output_type": "stream",
          "text": [
            "nice\n",
            "nice\n",
            "nice\n",
            "nice\n",
            "nice\n",
            "nice\n",
            "nice\n",
            "nice\n",
            "nice\n",
            "nice\n",
            "0.5686667973837299\n"
          ],
          "name": "stdout"
        }
      ]
    },
    {
      "cell_type": "markdown",
      "metadata": {
        "id": "6kAZHsVjBTae"
      },
      "source": [
        "17"
      ]
    },
    {
      "cell_type": "code",
      "metadata": {
        "id": "YSs-g8d6BUoF",
        "colab": {
          "base_uri": "https://localhost:8080/"
        },
        "outputId": "11040cd8-47ba-4c3e-ecff-cc4d68cab4c6"
      },
      "source": [
        "import math\n",
        "def sigmoid(x):\n",
        "    return 1/(1+math.exp(-x))\n",
        "a=np.ones((1,1000))\n",
        "t=np.loadtxt(\"hw3_train.dat.txt\",dtype=np.float,delimiter='\\t')\n",
        "c = np.insert(t, 0, values=a, axis=1)\n",
        "b=c[:,11]\n",
        "c=np.delete(c, (11), axis=1)\n",
        "ave=0\n",
        "for i in range (1000):\n",
        "    random.seed(i)\n",
        "    w0=[ 0.00754448 ,0.14325775  ,0.03548979 , 0.02775754 , 0.02547401 ,-0.08173504,0.0807915,  -0.10929449 , 0.07789522 , 0.16407524 , 0.14069183]\n",
        "    w0=np.array(w0)\n",
        "    for k in range(500):\n",
        "        r=random.randint(0,999)\n",
        "        temp=(-b[r]*np.dot(w0.transpose(),c[r]))\n",
        "        temp=sigmoid(temp)\n",
        "        w0+=0.001*temp*b[r]*c[r]\n",
        "    ce=0\n",
        "    for j in range(1000):\n",
        "        temp=-b[j]*np.dot(w0.transpose(),c[j])\n",
        "        temp2=math.log(1+math.exp(temp))\n",
        "        ce+=temp2\n",
        "    ce/=1000\n",
        "    ave+=ce\n",
        "print(ave/1000)"
      ],
      "execution_count": null,
      "outputs": [
        {
          "output_type": "stream",
          "text": [
            "0.5026652161395769\n"
          ],
          "name": "stdout"
        }
      ]
    },
    {
      "cell_type": "markdown",
      "metadata": {
        "id": "R9s7hV1vIYQa"
      },
      "source": [
        "18"
      ]
    },
    {
      "cell_type": "code",
      "metadata": {
        "id": "kLhHReL9IXjU",
        "colab": {
          "base_uri": "https://localhost:8080/"
        },
        "outputId": "7b75c299-126f-4376-c4d2-b02e1de16993"
      },
      "source": [
        "win=[ 0.00754448 ,0.14325775  ,0.03548979 , 0.02775754 , 0.02547401 ,-0.08173504,0.0807915,  -0.10929449 , 0.07789522 , 0.16407524 , 0.14069183]\n",
        "win=np.array(win)\n",
        "a=np.ones((1,1000))\n",
        "t=np.loadtxt(\"hw3_train.dat.txt\",dtype=np.float,delimiter='\\t')\n",
        "c = np.insert(t, 0, values=a, axis=1)\n",
        "b=c[:,11]\n",
        "c=np.delete(c, (11), axis=1)\n",
        "t1=np.loadtxt(\"hw3_test.dat.txt\",dtype=np.float,delimiter='\\t')\n",
        "a1=np.ones((1,3000))\n",
        "c1 = np.insert(t1, 0, values=a1, axis=1)\n",
        "b1=c1[:,11]\n",
        "c1=np.delete(c1, (11), axis=1)\n",
        "ein=0\n",
        "for i in range (1000):\n",
        "    if np.dot(win.transpose(),c[i])*b[i]<0:\n",
        "        ein+=1\n",
        "eout=0\n",
        "for i in range (3000):\n",
        "    if np.dot(win.transpose(),c1[i])*b1[i]<0:\n",
        "        eout+=1\n",
        "print(ein/1000-eout/3000)"
      ],
      "execution_count": null,
      "outputs": [
        {
          "output_type": "stream",
          "text": [
            "-0.3226666666666666\n"
          ],
          "name": "stdout"
        }
      ]
    },
    {
      "cell_type": "markdown",
      "metadata": {
        "id": "0JB4h-amyYmJ"
      },
      "source": [
        "19"
      ]
    },
    {
      "cell_type": "code",
      "metadata": {
        "id": "4Ubs8TWbyaLU",
        "colab": {
          "base_uri": "https://localhost:8080/"
        },
        "outputId": "b6b7f672-abf4-43f6-f182-fde21391ba91"
      },
      "source": [
        "import numpy as np\n",
        "a=np.ones((1,1000))\n",
        "c=np.loadtxt(\"hw3_train.dat.txt\",dtype=np.float,delimiter='\\t')\n",
        "b=c[:,10]\n",
        "c=np.delete(c, (10), axis=1)\n",
        "c2=c*c\n",
        "c3=c2*c\n",
        "c=np.hstack([c,c2])\n",
        "c=np.hstack([c,c3])\n",
        "c = np.insert(c, 0, values=a, axis=1)\n",
        "w=np.dot(c.transpose(),c)\n",
        "pinverse = np.linalg.inv(w)\n",
        "w1=np.dot(pinverse,c.transpose())\n",
        "win=np.dot(w1,b)\n",
        "ein=0\n",
        "for i in range (1000):\n",
        "    if np.dot(win.transpose(),c[i])*b[i]<0:\n",
        "        ein+=1\n",
        "a=np.ones((1,3000))\n",
        "c=np.loadtxt(\"hw3_test.dat.txt\",dtype=np.float,delimiter='\\t')\n",
        "b=c[:,10]\n",
        "c=np.delete(c, (10), axis=1)\n",
        "c2=c*c\n",
        "c3=c2*c\n",
        "c=np.hstack([c,c2])\n",
        "c=np.hstack([c,c3])\n",
        "c = np.insert(c, 0, values=a, axis=1)\n",
        "eout=0\n",
        "for i in range (3000):\n",
        "    if np.dot(win.transpose(),c[i])*b[i]<0:\n",
        "        eout+=1\n",
        "print(ein/1000-eout/3000)"
      ],
      "execution_count": null,
      "outputs": [
        {
          "output_type": "stream",
          "text": [
            "-0.37366666666666665\n"
          ],
          "name": "stdout"
        }
      ]
    },
    {
      "cell_type": "markdown",
      "metadata": {
        "id": "fyKy-jsP8sKK"
      },
      "source": [
        "20"
      ]
    },
    {
      "cell_type": "code",
      "metadata": {
        "id": "bwvi8IAZ1j6t",
        "colab": {
          "base_uri": "https://localhost:8080/"
        },
        "outputId": "e3347496-b0a1-4284-e5b5-a6440eb3af5c"
      },
      "source": [
        "import numpy as np\n",
        "a=np.ones((1,1000))\n",
        "c=np.loadtxt(\"hw3_train.dat.txt\",dtype=np.float,delimiter='\\t')\n",
        "b=c[:,10]\n",
        "c=np.delete(c, (10), axis=1)\n",
        "t=c\n",
        "c2=c*c\n",
        "for i in range(9):\n",
        "    c=np.hstack([c,c2])\n",
        "    c2=c2*t\n",
        "c = np.insert(c, 0, values=a, axis=1)\n",
        "print(len(c[1]))\n",
        "w=np.dot(c.transpose(),c)\n",
        "pinverse = np.linalg.inv(w)\n",
        "w1=np.dot(pinverse,c.transpose())\n",
        "win=np.dot(w1,b)\n",
        "ein=0\n",
        "for i in range (1000):\n",
        "    if np.dot(win.transpose(),c[i])*b[i]<0:\n",
        "        ein+=1\n",
        "a=np.ones((1,3000))\n",
        "c=np.loadtxt(\"hw3_test.dat.txt\",dtype=np.float,delimiter='\\t')\n",
        "b=c[:,10]\n",
        "c=np.delete(c, (10), axis=1)\n",
        "c2=c*c\n",
        "t=c\n",
        "for i in range(9):\n",
        "    c=np.hstack([c,c2])\n",
        "    c2=c2*t\n",
        "c = np.insert(c, 0, values=a, axis=1)\n",
        "eout=0\n",
        "for i in range (3000):\n",
        "    if np.dot(win.transpose(),c[i])*b[i]<0:\n",
        "        eout+=1\n",
        "print(ein/1000-eout/3000)"
      ],
      "execution_count": null,
      "outputs": [
        {
          "output_type": "stream",
          "text": [
            "101\n",
            "-0.44666666666666666\n"
          ],
          "name": "stdout"
        }
      ]
    }
  ]
}