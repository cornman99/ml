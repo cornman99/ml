{
  "nbformat": 4,
  "nbformat_minor": 0,
  "metadata": {
    "colab": {
      "name": "hw5.ipynb",
      "provenance": []
    },
    "kernelspec": {
      "name": "python3",
      "display_name": "Python 3"
    }
  },
  "cells": [
    {
      "cell_type": "code",
      "metadata": {
        "colab": {
          "base_uri": "https://localhost:8080/"
        },
        "id": "6TmdKGndYH66",
        "outputId": "b563b107-6cab-4a0e-f4c0-3077ce5776e7"
      },
      "source": [
        "!unzip libsvm-3.24.zip"
      ],
      "execution_count": null,
      "outputs": [
        {
          "output_type": "stream",
          "text": [
            "Archive:  libsvm-3.24.zip\n",
            "replace libsvm-3.24/svm.def? [y]es, [n]o, [A]ll, [N]one, [r]ename: "
          ],
          "name": "stdout"
        }
      ]
    },
    {
      "cell_type": "code",
      "metadata": {
        "colab": {
          "base_uri": "https://localhost:8080/"
        },
        "id": "KVmzZcKYYRIG",
        "outputId": "75a1d3da-c2d3-4679-80db-af00db93ae5f"
      },
      "source": [
        "cd  libsvm-3.24/python"
      ],
      "execution_count": null,
      "outputs": [
        {
          "output_type": "stream",
          "text": [
            "/gdrive/My Drive/ml/libsvm-3.24/python\n"
          ],
          "name": "stdout"
        }
      ]
    },
    {
      "cell_type": "code",
      "metadata": {
        "colab": {
          "base_uri": "https://localhost:8080/"
        },
        "id": "YgvekiWnYUQ_",
        "outputId": "f1d478e5-81b2-4a0b-d72d-bbe2eb1d1010"
      },
      "source": [
        "!make"
      ],
      "execution_count": null,
      "outputs": [
        {
          "output_type": "stream",
          "text": [
            "make -C .. lib\n",
            "make[1]: Entering directory '/gdrive/My Drive/ml/libsvm-3.24'\n",
            "if [ \"Linux\" = \"Darwin\" ]; then \\\n",
            "\tSHARED_LIB_FLAG=\"-dynamiclib -Wl,-install_name,libsvm.so.2\"; \\\n",
            "else \\\n",
            "\tSHARED_LIB_FLAG=\"-shared -Wl,-soname,libsvm.so.2\"; \\\n",
            "fi; \\\n",
            "g++ ${SHARED_LIB_FLAG} svm.o -o libsvm.so.2\n",
            "make[1]: Leaving directory '/gdrive/My Drive/ml/libsvm-3.24'\n"
          ],
          "name": "stdout"
        }
      ]
    },
    {
      "cell_type": "code",
      "metadata": {
        "id": "NEjOSQUJYaaY"
      },
      "source": [
        "from svmutil import *"
      ],
      "execution_count": null,
      "outputs": []
    },
    {
      "cell_type": "markdown",
      "metadata": {
        "id": "_0Ks5tsgEy2y"
      },
      "source": [
        "15"
      ]
    },
    {
      "cell_type": "code",
      "metadata": {
        "id": "BF5DC2TCZdDL"
      },
      "source": [
        "y, x = svm_read_problem('satimage.scale')"
      ],
      "execution_count": null,
      "outputs": []
    },
    {
      "cell_type": "code",
      "metadata": {
        "id": "AXEPFpVOaumW"
      },
      "source": [
        "for i in range(len(y)):\n",
        "    if(y[i]!=3):\n",
        "        y[i]=0.0\n",
        "    else:\n",
        "        y[i]=1.0"
      ],
      "execution_count": null,
      "outputs": []
    },
    {
      "cell_type": "code",
      "metadata": {
        "id": "MluBdPMgbaF0"
      },
      "source": [
        "m = svm_train(y, x, '-c 10 -t 0')"
      ],
      "execution_count": null,
      "outputs": []
    },
    {
      "cell_type": "code",
      "metadata": {
        "id": "F23rsPqfcnoC"
      },
      "source": [
        "import numpy as np\n",
        "temp=np.zeros((36))\n",
        "for i in range(len(m.get_sv_coef())):\n",
        "    t=m.get_sv_coef()[i][0]\n",
        "    sv=m.get_SV()[i]\n",
        "    for j in range(1,37):\n",
        "        if j in m.get_SV()[i]:\n",
        "            temp[j-1]+=t*sv[j]"
      ],
      "execution_count": null,
      "outputs": []
    },
    {
      "cell_type": "code",
      "metadata": {
        "colab": {
          "base_uri": "https://localhost:8080/"
        },
        "id": "1hyPJdQgDGTU",
        "outputId": "5d2cca71-5b47-4518-f0ca-c3bbdde8e12e"
      },
      "source": [
        "import math \n",
        "res=0\n",
        "for i in temp:\n",
        "    res+=i*i\n",
        "print(math.sqrt(res))"
      ],
      "execution_count": null,
      "outputs": [
        {
          "output_type": "stream",
          "text": [
            "8.459972213043253\n"
          ],
          "name": "stdout"
        }
      ]
    },
    {
      "cell_type": "markdown",
      "metadata": {
        "id": "x3myxb_jE0G4"
      },
      "source": [
        "16 17 "
      ]
    },
    {
      "cell_type": "code",
      "metadata": {
        "colab": {
          "base_uri": "https://localhost:8080/"
        },
        "id": "q4iQu9X7E10Z",
        "outputId": "82e090d4-a378-4f51-f78a-ea7f2b69c199"
      },
      "source": [
        "for j in range(1,6):\n",
        "    y, x = svm_read_problem('satimage.scale')\n",
        "    for i in range(len(y)):\n",
        "        if(y[i]!=j):\n",
        "            y[i]=1.0\n",
        "        else:\n",
        "            y[i]=0.0\n",
        "    m = svm_train(y, x, '-c 10 -t 1 -d 2 -r 1 -g 1')   \n",
        "    p_label, p_acc, p_val = svm_predict(y, x, m)\n",
        "\n",
        "    print(len(m.get_SV()))"
      ],
      "execution_count": null,
      "outputs": [
        {
          "output_type": "stream",
          "text": [
            "Accuracy = 99.9324% (4432/4435) (classification)\n",
            "145\n",
            "Accuracy = 100% (4435/4435) (classification)\n",
            "87\n",
            "Accuracy = 97.7678% (4336/4435) (classification)\n",
            "433\n",
            "Accuracy = 95.9865% (4257/4435) (classification)\n",
            "711\n",
            "Accuracy = 99.3236% (4405/4435) (classification)\n",
            "258\n"
          ],
          "name": "stdout"
        }
      ]
    },
    {
      "cell_type": "markdown",
      "metadata": {
        "id": "Cz19tsuKU9Or"
      },
      "source": [
        "18\n",
        "\n",
        "\n"
      ]
    },
    {
      "cell_type": "code",
      "metadata": {
        "colab": {
          "base_uri": "https://localhost:8080/"
        },
        "id": "bltfPeMzU8pc",
        "outputId": "876353bd-b5e7-41c9-cb34-13ab77af0fbf"
      },
      "source": [
        "c=0.01\n",
        "for j in range(5):\n",
        "    y, x = svm_read_problem('satimage.scale')\n",
        "    for i in range(len(y)):\n",
        "        if(y[i]!=6.0):\n",
        "            y[i]=0.0\n",
        "        else:\n",
        "            y[i]=1.0\n",
        "    yt, xt = svm_read_problem('satimage.scale.t')\n",
        "    for i in range(len(yt)):\n",
        "        if(yt[i]!=6.0):\n",
        "            yt[i]=0.0\n",
        "        else:\n",
        "            yt[i]=1.0\n",
        "    m = svm_train(y, x, ' -t 2 -g 10 -c '+str(c))   \n",
        "    p_label, p_acc, p_val = svm_predict(yt, xt, m)\n",
        "    c*=10\n",
        "    eout=0\n",
        "    for i in range(2000):\n",
        "        if yt[i]!=p_label[i]:\n",
        "            eout+=1\n",
        "    print(eout)\n"
      ],
      "execution_count": null,
      "outputs": [
        {
          "output_type": "stream",
          "text": [
            "Accuracy = 76.5% (1530/2000) (classification)\n",
            "470\n",
            "Accuracy = 83.65% (1673/2000) (classification)\n",
            "327\n",
            "Accuracy = 89.35% (1787/2000) (classification)\n",
            "213\n",
            "Accuracy = 90.3% (1806/2000) (classification)\n",
            "194\n",
            "Accuracy = 90.3% (1806/2000) (classification)\n",
            "194\n"
          ],
          "name": "stdout"
        }
      ]
    },
    {
      "cell_type": "markdown",
      "metadata": {
        "id": "mnkZukmiY0MZ"
      },
      "source": [
        "19"
      ]
    },
    {
      "cell_type": "code",
      "metadata": {
        "colab": {
          "base_uri": "https://localhost:8080/"
        },
        "id": "SXrVc5qqY28f",
        "outputId": "5a353487-ce33-4371-bc66-04347235c33a"
      },
      "source": [
        "g=0.1\n",
        "for j in range(5):\n",
        "    y, x = svm_read_problem('satimage.scale')\n",
        "    for i in range(len(y)):\n",
        "        if(y[i]!=6.0):\n",
        "            y[i]=0.0\n",
        "        else:\n",
        "            y[i]=1.0\n",
        "    yt, xt = svm_read_problem('satimage.scale.t')\n",
        "    for i in range(len(yt)):\n",
        "        if(yt[i]!=6.0):\n",
        "            yt[i]=0.0\n",
        "        else:\n",
        "            yt[i]=1.0\n",
        "    m = svm_train(y, x, ' -t 2 -c 0.1 -g '+str(g))   \n",
        "    p_label, p_acc, p_val = svm_predict(yt, xt, m)\n",
        "    g*=10\n"
      ],
      "execution_count": null,
      "outputs": [
        {
          "output_type": "stream",
          "text": [
            "Accuracy = 90.15% (1803/2000) (classification)\n",
            "Accuracy = 93% (1860/2000) (classification)\n",
            "Accuracy = 83.65% (1673/2000) (classification)\n",
            "Accuracy = 76.5% (1530/2000) (classification)\n",
            "Accuracy = 76.5% (1530/2000) (classification)\n"
          ],
          "name": "stdout"
        }
      ]
    },
    {
      "cell_type": "markdown",
      "metadata": {
        "id": "lrYYEqrhZNt0"
      },
      "source": [
        "20"
      ]
    },
    {
      "cell_type": "code",
      "metadata": {
        "colab": {
          "base_uri": "https://localhost:8080/"
        },
        "id": "ziavr3h3ZOeT",
        "outputId": "f0414775-77b7-4522-8f9d-30963bd5c412"
      },
      "source": [
        "import random\n",
        "most={0.1:0,1:0,10:0,100:0,1000:0}\n",
        "for j in range(100):\n",
        "    g=0.1\n",
        "    ming=[]\n",
        "    y, x = svm_read_problem('satimage.scale')\n",
        "    cc = list(zip(y, x))\n",
        "    random.shuffle(cc)\n",
        "    y[:], x[:] = zip(*cc)\n",
        "    for i in range(len(y)):\n",
        "        if(y[i]!=6.0):\n",
        "            y[i]=0.0\n",
        "        else:\n",
        "            y[i]=1.0\n",
        "    for k in range(5):\n",
        "        m = svm_train(y[200:], x[200:], ' -t 2 -c 0.1 -g '+str(g))   \n",
        "        p_label, p_acc, p_val = svm_predict(y[:200], x[:200], m)\n",
        "        ming.append(p_acc[1])\n",
        "        g*=10\n",
        "    tt=ming.index(min(ming))\n",
        "    most[0.1*(10**tt)]+=1\n",
        "print(most)"
      ],
      "execution_count": null,
      "outputs": [
        {
          "output_type": "stream",
          "text": [
            "Accuracy = 89% (178/200) (classification)\n",
            "Accuracy = 91% (182/200) (classification)\n",
            "Accuracy = 82.5% (165/200) (classification)\n",
            "Accuracy = 76.5% (153/200) (classification)\n",
            "Accuracy = 76.5% (153/200) (classification)\n",
            "Accuracy = 92.5% (185/200) (classification)\n",
            "Accuracy = 92% (184/200) (classification)\n",
            "Accuracy = 79.5% (159/200) (classification)\n",
            "Accuracy = 73.5% (147/200) (classification)\n",
            "Accuracy = 73.5% (147/200) (classification)\n",
            "Accuracy = 89% (178/200) (classification)\n",
            "Accuracy = 90.5% (181/200) (classification)\n",
            "Accuracy = 82% (164/200) (classification)\n",
            "Accuracy = 75.5% (151/200) (classification)\n",
            "Accuracy = 75.5% (151/200) (classification)\n",
            "Accuracy = 94.5% (189/200) (classification)\n",
            "Accuracy = 93.5% (187/200) (classification)\n",
            "Accuracy = 81.5% (163/200) (classification)\n",
            "Accuracy = 75% (150/200) (classification)\n",
            "Accuracy = 75% (150/200) (classification)\n",
            "Accuracy = 91.5% (183/200) (classification)\n",
            "Accuracy = 93.5% (187/200) (classification)\n",
            "Accuracy = 84% (168/200) (classification)\n",
            "Accuracy = 75% (150/200) (classification)\n",
            "Accuracy = 75% (150/200) (classification)\n",
            "Accuracy = 93% (186/200) (classification)\n",
            "Accuracy = 96.5% (193/200) (classification)\n",
            "Accuracy = 84% (168/200) (classification)\n",
            "Accuracy = 77.5% (155/200) (classification)\n",
            "Accuracy = 77.5% (155/200) (classification)\n",
            "Accuracy = 92% (184/200) (classification)\n",
            "Accuracy = 92.5% (185/200) (classification)\n",
            "Accuracy = 83% (166/200) (classification)\n",
            "Accuracy = 75.5% (151/200) (classification)\n",
            "Accuracy = 75.5% (151/200) (classification)\n",
            "Accuracy = 87.5% (175/200) (classification)\n",
            "Accuracy = 88% (176/200) (classification)\n",
            "Accuracy = 85.5% (171/200) (classification)\n",
            "Accuracy = 79.5% (159/200) (classification)\n",
            "Accuracy = 79.5% (159/200) (classification)\n",
            "Accuracy = 94% (188/200) (classification)\n",
            "Accuracy = 94.5% (189/200) (classification)\n",
            "Accuracy = 87.5% (175/200) (classification)\n",
            "Accuracy = 84% (168/200) (classification)\n",
            "Accuracy = 84% (168/200) (classification)\n",
            "Accuracy = 92.5% (185/200) (classification)\n",
            "Accuracy = 93% (186/200) (classification)\n",
            "Accuracy = 81.5% (163/200) (classification)\n",
            "Accuracy = 76.5% (153/200) (classification)\n",
            "Accuracy = 76.5% (153/200) (classification)\n",
            "Accuracy = 92% (184/200) (classification)\n",
            "Accuracy = 93.5% (187/200) (classification)\n",
            "Accuracy = 86% (172/200) (classification)\n",
            "Accuracy = 81% (162/200) (classification)\n",
            "Accuracy = 81% (162/200) (classification)\n",
            "Accuracy = 90.5% (181/200) (classification)\n",
            "Accuracy = 91.5% (183/200) (classification)\n",
            "Accuracy = 76.5% (153/200) (classification)\n",
            "Accuracy = 69.5% (139/200) (classification)\n",
            "Accuracy = 69.5% (139/200) (classification)\n",
            "Accuracy = 95.5% (191/200) (classification)\n",
            "Accuracy = 95.5% (191/200) (classification)\n",
            "Accuracy = 83.5% (167/200) (classification)\n",
            "Accuracy = 79% (158/200) (classification)\n",
            "Accuracy = 79% (158/200) (classification)\n",
            "Accuracy = 93% (186/200) (classification)\n",
            "Accuracy = 94% (188/200) (classification)\n",
            "Accuracy = 87.5% (175/200) (classification)\n",
            "Accuracy = 77% (154/200) (classification)\n",
            "Accuracy = 77% (154/200) (classification)\n",
            "Accuracy = 94% (188/200) (classification)\n",
            "Accuracy = 94% (188/200) (classification)\n",
            "Accuracy = 83.5% (167/200) (classification)\n",
            "Accuracy = 76.5% (153/200) (classification)\n",
            "Accuracy = 76.5% (153/200) (classification)\n",
            "Accuracy = 93.5% (187/200) (classification)\n",
            "Accuracy = 94% (188/200) (classification)\n",
            "Accuracy = 83% (166/200) (classification)\n",
            "Accuracy = 77% (154/200) (classification)\n",
            "Accuracy = 77% (154/200) (classification)\n",
            "Accuracy = 90.5% (181/200) (classification)\n",
            "Accuracy = 89% (178/200) (classification)\n",
            "Accuracy = 80.5% (161/200) (classification)\n",
            "Accuracy = 75.5% (151/200) (classification)\n",
            "Accuracy = 75.5% (151/200) (classification)\n",
            "Accuracy = 93% (186/200) (classification)\n",
            "Accuracy = 95.5% (191/200) (classification)\n",
            "Accuracy = 86% (172/200) (classification)\n",
            "Accuracy = 81% (162/200) (classification)\n",
            "Accuracy = 81% (162/200) (classification)\n",
            "Accuracy = 91.5% (183/200) (classification)\n",
            "Accuracy = 94% (188/200) (classification)\n",
            "Accuracy = 86% (172/200) (classification)\n",
            "Accuracy = 79% (158/200) (classification)\n",
            "Accuracy = 79% (158/200) (classification)\n",
            "Accuracy = 93.5% (187/200) (classification)\n",
            "Accuracy = 96.5% (193/200) (classification)\n",
            "Accuracy = 87.5% (175/200) (classification)\n",
            "Accuracy = 78.5% (157/200) (classification)\n",
            "Accuracy = 78.5% (157/200) (classification)\n",
            "Accuracy = 92.5% (185/200) (classification)\n",
            "Accuracy = 93% (186/200) (classification)\n",
            "Accuracy = 84% (168/200) (classification)\n",
            "Accuracy = 76.5% (153/200) (classification)\n",
            "Accuracy = 76.5% (153/200) (classification)\n",
            "Accuracy = 93.5% (187/200) (classification)\n",
            "Accuracy = 95.5% (191/200) (classification)\n",
            "Accuracy = 86.5% (173/200) (classification)\n",
            "Accuracy = 80% (160/200) (classification)\n",
            "Accuracy = 80% (160/200) (classification)\n",
            "Accuracy = 93% (186/200) (classification)\n",
            "Accuracy = 94% (188/200) (classification)\n",
            "Accuracy = 80% (160/200) (classification)\n",
            "Accuracy = 74% (148/200) (classification)\n",
            "Accuracy = 74% (148/200) (classification)\n",
            "Accuracy = 92.5% (185/200) (classification)\n",
            "Accuracy = 95% (190/200) (classification)\n",
            "Accuracy = 84% (168/200) (classification)\n",
            "Accuracy = 77% (154/200) (classification)\n",
            "Accuracy = 77% (154/200) (classification)\n",
            "Accuracy = 91% (182/200) (classification)\n",
            "Accuracy = 94% (188/200) (classification)\n",
            "Accuracy = 87.5% (175/200) (classification)\n",
            "Accuracy = 75.5% (151/200) (classification)\n",
            "Accuracy = 75.5% (151/200) (classification)\n",
            "Accuracy = 91% (182/200) (classification)\n",
            "Accuracy = 92.5% (185/200) (classification)\n",
            "Accuracy = 86% (172/200) (classification)\n",
            "Accuracy = 79% (158/200) (classification)\n",
            "Accuracy = 79% (158/200) (classification)\n",
            "Accuracy = 92% (184/200) (classification)\n",
            "Accuracy = 92.5% (185/200) (classification)\n",
            "Accuracy = 85.5% (171/200) (classification)\n",
            "Accuracy = 76% (152/200) (classification)\n",
            "Accuracy = 76% (152/200) (classification)\n",
            "Accuracy = 92% (184/200) (classification)\n",
            "Accuracy = 94.5% (189/200) (classification)\n",
            "Accuracy = 79% (158/200) (classification)\n",
            "Accuracy = 70% (140/200) (classification)\n",
            "Accuracy = 70% (140/200) (classification)\n",
            "Accuracy = 93% (186/200) (classification)\n",
            "Accuracy = 94% (188/200) (classification)\n",
            "Accuracy = 83% (166/200) (classification)\n",
            "Accuracy = 76.5% (153/200) (classification)\n",
            "Accuracy = 76.5% (153/200) (classification)\n",
            "Accuracy = 93% (186/200) (classification)\n",
            "Accuracy = 92.5% (185/200) (classification)\n",
            "Accuracy = 82.5% (165/200) (classification)\n",
            "Accuracy = 75% (150/200) (classification)\n",
            "Accuracy = 75% (150/200) (classification)\n",
            "Accuracy = 94% (188/200) (classification)\n",
            "Accuracy = 95% (190/200) (classification)\n",
            "Accuracy = 81% (162/200) (classification)\n",
            "Accuracy = 74% (148/200) (classification)\n",
            "Accuracy = 74% (148/200) (classification)\n",
            "Accuracy = 90.5% (181/200) (classification)\n",
            "Accuracy = 93% (186/200) (classification)\n",
            "Accuracy = 85.5% (171/200) (classification)\n",
            "Accuracy = 78.5% (157/200) (classification)\n",
            "Accuracy = 78.5% (157/200) (classification)\n",
            "Accuracy = 91.5% (183/200) (classification)\n",
            "Accuracy = 95% (190/200) (classification)\n",
            "Accuracy = 82.5% (165/200) (classification)\n",
            "Accuracy = 75% (150/200) (classification)\n",
            "Accuracy = 75% (150/200) (classification)\n",
            "Accuracy = 91% (182/200) (classification)\n",
            "Accuracy = 90.5% (181/200) (classification)\n",
            "Accuracy = 79% (158/200) (classification)\n",
            "Accuracy = 72% (144/200) (classification)\n",
            "Accuracy = 72% (144/200) (classification)\n",
            "Accuracy = 93% (186/200) (classification)\n",
            "Accuracy = 93.5% (187/200) (classification)\n",
            "Accuracy = 84% (168/200) (classification)\n",
            "Accuracy = 78.5% (157/200) (classification)\n",
            "Accuracy = 78.5% (157/200) (classification)\n",
            "Accuracy = 91.5% (183/200) (classification)\n",
            "Accuracy = 92.5% (185/200) (classification)\n",
            "Accuracy = 87.5% (175/200) (classification)\n",
            "Accuracy = 81.5% (163/200) (classification)\n",
            "Accuracy = 81.5% (163/200) (classification)\n",
            "Accuracy = 90.5% (181/200) (classification)\n",
            "Accuracy = 90.5% (181/200) (classification)\n",
            "Accuracy = 80.5% (161/200) (classification)\n",
            "Accuracy = 72.5% (145/200) (classification)\n",
            "Accuracy = 72.5% (145/200) (classification)\n",
            "Accuracy = 90.5% (181/200) (classification)\n",
            "Accuracy = 92.5% (185/200) (classification)\n",
            "Accuracy = 85% (170/200) (classification)\n",
            "Accuracy = 79.5% (159/200) (classification)\n",
            "Accuracy = 79.5% (159/200) (classification)\n",
            "Accuracy = 93% (186/200) (classification)\n",
            "Accuracy = 92% (184/200) (classification)\n",
            "Accuracy = 82% (164/200) (classification)\n",
            "Accuracy = 75.5% (151/200) (classification)\n",
            "Accuracy = 75.5% (151/200) (classification)\n",
            "Accuracy = 93.5% (187/200) (classification)\n",
            "Accuracy = 95% (190/200) (classification)\n",
            "Accuracy = 82.5% (165/200) (classification)\n",
            "Accuracy = 75% (150/200) (classification)\n",
            "Accuracy = 75% (150/200) (classification)\n",
            "Accuracy = 92.5% (185/200) (classification)\n",
            "Accuracy = 94% (188/200) (classification)\n",
            "Accuracy = 86.5% (173/200) (classification)\n",
            "Accuracy = 78.5% (157/200) (classification)\n",
            "Accuracy = 78.5% (157/200) (classification)\n",
            "Accuracy = 92.5% (185/200) (classification)\n",
            "Accuracy = 94.5% (189/200) (classification)\n",
            "Accuracy = 83% (166/200) (classification)\n",
            "Accuracy = 73% (146/200) (classification)\n",
            "Accuracy = 73% (146/200) (classification)\n",
            "Accuracy = 93% (186/200) (classification)\n",
            "Accuracy = 95% (190/200) (classification)\n",
            "Accuracy = 88% (176/200) (classification)\n",
            "Accuracy = 81% (162/200) (classification)\n",
            "Accuracy = 81% (162/200) (classification)\n",
            "Accuracy = 90% (180/200) (classification)\n",
            "Accuracy = 91% (182/200) (classification)\n",
            "Accuracy = 83% (166/200) (classification)\n",
            "Accuracy = 77.5% (155/200) (classification)\n",
            "Accuracy = 77.5% (155/200) (classification)\n",
            "Accuracy = 94.5% (189/200) (classification)\n",
            "Accuracy = 94.5% (189/200) (classification)\n",
            "Accuracy = 82.5% (165/200) (classification)\n",
            "Accuracy = 74% (148/200) (classification)\n",
            "Accuracy = 74% (148/200) (classification)\n",
            "Accuracy = 92% (184/200) (classification)\n",
            "Accuracy = 92% (184/200) (classification)\n",
            "Accuracy = 82.5% (165/200) (classification)\n",
            "Accuracy = 75.5% (151/200) (classification)\n",
            "Accuracy = 75.5% (151/200) (classification)\n",
            "Accuracy = 90% (180/200) (classification)\n",
            "Accuracy = 93.5% (187/200) (classification)\n",
            "Accuracy = 80.5% (161/200) (classification)\n",
            "Accuracy = 73.5% (147/200) (classification)\n",
            "Accuracy = 73.5% (147/200) (classification)\n",
            "Accuracy = 90.5% (181/200) (classification)\n",
            "Accuracy = 93.5% (187/200) (classification)\n",
            "Accuracy = 84% (168/200) (classification)\n",
            "Accuracy = 79% (158/200) (classification)\n",
            "Accuracy = 79% (158/200) (classification)\n",
            "Accuracy = 94% (188/200) (classification)\n",
            "Accuracy = 97% (194/200) (classification)\n",
            "Accuracy = 91% (182/200) (classification)\n",
            "Accuracy = 82% (164/200) (classification)\n",
            "Accuracy = 82% (164/200) (classification)\n",
            "Accuracy = 92.5% (185/200) (classification)\n",
            "Accuracy = 93% (186/200) (classification)\n",
            "Accuracy = 83% (166/200) (classification)\n",
            "Accuracy = 74.5% (149/200) (classification)\n",
            "Accuracy = 74.5% (149/200) (classification)\n",
            "Accuracy = 95.5% (191/200) (classification)\n",
            "Accuracy = 95% (190/200) (classification)\n",
            "Accuracy = 82.5% (165/200) (classification)\n",
            "Accuracy = 77.5% (155/200) (classification)\n",
            "Accuracy = 77.5% (155/200) (classification)\n",
            "Accuracy = 90.5% (181/200) (classification)\n",
            "Accuracy = 92% (184/200) (classification)\n",
            "Accuracy = 83% (166/200) (classification)\n",
            "Accuracy = 74% (148/200) (classification)\n",
            "Accuracy = 74% (148/200) (classification)\n",
            "Accuracy = 91% (182/200) (classification)\n",
            "Accuracy = 92% (184/200) (classification)\n",
            "Accuracy = 84.5% (169/200) (classification)\n",
            "Accuracy = 74.5% (149/200) (classification)\n",
            "Accuracy = 74.5% (149/200) (classification)\n",
            "Accuracy = 91.5% (183/200) (classification)\n",
            "Accuracy = 93% (186/200) (classification)\n",
            "Accuracy = 84.5% (169/200) (classification)\n",
            "Accuracy = 81% (162/200) (classification)\n",
            "Accuracy = 81% (162/200) (classification)\n",
            "Accuracy = 92.5% (185/200) (classification)\n",
            "Accuracy = 92.5% (185/200) (classification)\n",
            "Accuracy = 85% (170/200) (classification)\n",
            "Accuracy = 76.5% (153/200) (classification)\n",
            "Accuracy = 76.5% (153/200) (classification)\n",
            "Accuracy = 94.5% (189/200) (classification)\n",
            "Accuracy = 95% (190/200) (classification)\n",
            "Accuracy = 85% (170/200) (classification)\n",
            "Accuracy = 76% (152/200) (classification)\n",
            "Accuracy = 76% (152/200) (classification)\n",
            "Accuracy = 90% (180/200) (classification)\n",
            "Accuracy = 92% (184/200) (classification)\n",
            "Accuracy = 86.5% (173/200) (classification)\n",
            "Accuracy = 80.5% (161/200) (classification)\n",
            "Accuracy = 80.5% (161/200) (classification)\n",
            "Accuracy = 91% (182/200) (classification)\n",
            "Accuracy = 91.5% (183/200) (classification)\n",
            "Accuracy = 82% (164/200) (classification)\n",
            "Accuracy = 72.5% (145/200) (classification)\n",
            "Accuracy = 72.5% (145/200) (classification)\n",
            "Accuracy = 88.5% (177/200) (classification)\n",
            "Accuracy = 89% (178/200) (classification)\n",
            "Accuracy = 83% (166/200) (classification)\n",
            "Accuracy = 75.5% (151/200) (classification)\n",
            "Accuracy = 75.5% (151/200) (classification)\n",
            "Accuracy = 90% (180/200) (classification)\n",
            "Accuracy = 92% (184/200) (classification)\n",
            "Accuracy = 82.5% (165/200) (classification)\n",
            "Accuracy = 76.5% (153/200) (classification)\n",
            "Accuracy = 76.5% (153/200) (classification)\n",
            "Accuracy = 93% (186/200) (classification)\n",
            "Accuracy = 93% (186/200) (classification)\n",
            "Accuracy = 82% (164/200) (classification)\n",
            "Accuracy = 79% (158/200) (classification)\n",
            "Accuracy = 79% (158/200) (classification)\n",
            "Accuracy = 92.5% (185/200) (classification)\n",
            "Accuracy = 93% (186/200) (classification)\n",
            "Accuracy = 85.5% (171/200) (classification)\n",
            "Accuracy = 79.5% (159/200) (classification)\n",
            "Accuracy = 79.5% (159/200) (classification)\n",
            "Accuracy = 94.5% (189/200) (classification)\n",
            "Accuracy = 93% (186/200) (classification)\n",
            "Accuracy = 79% (158/200) (classification)\n",
            "Accuracy = 72% (144/200) (classification)\n",
            "Accuracy = 72% (144/200) (classification)\n",
            "Accuracy = 93% (186/200) (classification)\n",
            "Accuracy = 92.5% (185/200) (classification)\n",
            "Accuracy = 82.5% (165/200) (classification)\n",
            "Accuracy = 76.5% (153/200) (classification)\n",
            "Accuracy = 76.5% (153/200) (classification)\n",
            "Accuracy = 94% (188/200) (classification)\n",
            "Accuracy = 93.5% (187/200) (classification)\n",
            "Accuracy = 86.5% (173/200) (classification)\n",
            "Accuracy = 80% (160/200) (classification)\n",
            "Accuracy = 80% (160/200) (classification)\n",
            "Accuracy = 92.5% (185/200) (classification)\n",
            "Accuracy = 93.5% (187/200) (classification)\n",
            "Accuracy = 84.5% (169/200) (classification)\n",
            "Accuracy = 75% (150/200) (classification)\n",
            "Accuracy = 75% (150/200) (classification)\n",
            "Accuracy = 89% (178/200) (classification)\n",
            "Accuracy = 90% (180/200) (classification)\n",
            "Accuracy = 81% (162/200) (classification)\n",
            "Accuracy = 74% (148/200) (classification)\n",
            "Accuracy = 74% (148/200) (classification)\n",
            "Accuracy = 93% (186/200) (classification)\n",
            "Accuracy = 93% (186/200) (classification)\n",
            "Accuracy = 83.5% (167/200) (classification)\n",
            "Accuracy = 78% (156/200) (classification)\n",
            "Accuracy = 78% (156/200) (classification)\n",
            "Accuracy = 91.5% (183/200) (classification)\n",
            "Accuracy = 94% (188/200) (classification)\n",
            "Accuracy = 85.5% (171/200) (classification)\n",
            "Accuracy = 80.5% (161/200) (classification)\n",
            "Accuracy = 80.5% (161/200) (classification)\n",
            "Accuracy = 90.5% (181/200) (classification)\n",
            "Accuracy = 88.5% (177/200) (classification)\n",
            "Accuracy = 79.5% (159/200) (classification)\n",
            "Accuracy = 71.5% (143/200) (classification)\n",
            "Accuracy = 71.5% (143/200) (classification)\n",
            "Accuracy = 94% (188/200) (classification)\n",
            "Accuracy = 93.5% (187/200) (classification)\n",
            "Accuracy = 82% (164/200) (classification)\n",
            "Accuracy = 75% (150/200) (classification)\n",
            "Accuracy = 75% (150/200) (classification)\n",
            "Accuracy = 90% (180/200) (classification)\n",
            "Accuracy = 91% (182/200) (classification)\n",
            "Accuracy = 85.5% (171/200) (classification)\n",
            "Accuracy = 81% (162/200) (classification)\n",
            "Accuracy = 81% (162/200) (classification)\n",
            "Accuracy = 92% (184/200) (classification)\n",
            "Accuracy = 93.5% (187/200) (classification)\n",
            "Accuracy = 87% (174/200) (classification)\n",
            "Accuracy = 81% (162/200) (classification)\n",
            "Accuracy = 81% (162/200) (classification)\n",
            "Accuracy = 94.5% (189/200) (classification)\n",
            "Accuracy = 94% (188/200) (classification)\n",
            "Accuracy = 82.5% (165/200) (classification)\n",
            "Accuracy = 75.5% (151/200) (classification)\n",
            "Accuracy = 75.5% (151/200) (classification)\n",
            "Accuracy = 93% (186/200) (classification)\n",
            "Accuracy = 94% (188/200) (classification)\n",
            "Accuracy = 85% (170/200) (classification)\n",
            "Accuracy = 76% (152/200) (classification)\n",
            "Accuracy = 76% (152/200) (classification)\n",
            "Accuracy = 91% (182/200) (classification)\n",
            "Accuracy = 93.5% (187/200) (classification)\n",
            "Accuracy = 85.5% (171/200) (classification)\n",
            "Accuracy = 79% (158/200) (classification)\n",
            "Accuracy = 79% (158/200) (classification)\n",
            "Accuracy = 87.5% (175/200) (classification)\n",
            "Accuracy = 88.5% (177/200) (classification)\n",
            "Accuracy = 85% (170/200) (classification)\n",
            "Accuracy = 76.5% (153/200) (classification)\n",
            "Accuracy = 76.5% (153/200) (classification)\n",
            "Accuracy = 92% (184/200) (classification)\n",
            "Accuracy = 92% (184/200) (classification)\n",
            "Accuracy = 82.5% (165/200) (classification)\n",
            "Accuracy = 74.5% (149/200) (classification)\n",
            "Accuracy = 74.5% (149/200) (classification)\n",
            "Accuracy = 92.5% (185/200) (classification)\n",
            "Accuracy = 94% (188/200) (classification)\n",
            "Accuracy = 79% (158/200) (classification)\n",
            "Accuracy = 72.5% (145/200) (classification)\n",
            "Accuracy = 72.5% (145/200) (classification)\n",
            "Accuracy = 89.5% (179/200) (classification)\n",
            "Accuracy = 91.5% (183/200) (classification)\n",
            "Accuracy = 84.5% (169/200) (classification)\n",
            "Accuracy = 75% (150/200) (classification)\n",
            "Accuracy = 75% (150/200) (classification)\n",
            "Accuracy = 91% (182/200) (classification)\n",
            "Accuracy = 93% (186/200) (classification)\n",
            "Accuracy = 82.5% (165/200) (classification)\n",
            "Accuracy = 71.5% (143/200) (classification)\n",
            "Accuracy = 71.5% (143/200) (classification)\n",
            "Accuracy = 90% (180/200) (classification)\n",
            "Accuracy = 89% (178/200) (classification)\n",
            "Accuracy = 82% (164/200) (classification)\n",
            "Accuracy = 73% (146/200) (classification)\n",
            "Accuracy = 73% (146/200) (classification)\n",
            "Accuracy = 93.5% (187/200) (classification)\n",
            "Accuracy = 93% (186/200) (classification)\n",
            "Accuracy = 80.5% (161/200) (classification)\n",
            "Accuracy = 72.5% (145/200) (classification)\n",
            "Accuracy = 72.5% (145/200) (classification)\n",
            "Accuracy = 89% (178/200) (classification)\n",
            "Accuracy = 93% (186/200) (classification)\n",
            "Accuracy = 81.5% (163/200) (classification)\n",
            "Accuracy = 76% (152/200) (classification)\n",
            "Accuracy = 76% (152/200) (classification)\n",
            "Accuracy = 89.5% (179/200) (classification)\n",
            "Accuracy = 90.5% (181/200) (classification)\n",
            "Accuracy = 83% (166/200) (classification)\n",
            "Accuracy = 75% (150/200) (classification)\n",
            "Accuracy = 75% (150/200) (classification)\n",
            "Accuracy = 91.5% (183/200) (classification)\n",
            "Accuracy = 92.5% (185/200) (classification)\n",
            "Accuracy = 86% (172/200) (classification)\n",
            "Accuracy = 80.5% (161/200) (classification)\n",
            "Accuracy = 80.5% (161/200) (classification)\n",
            "Accuracy = 91% (182/200) (classification)\n",
            "Accuracy = 94% (188/200) (classification)\n",
            "Accuracy = 83% (166/200) (classification)\n",
            "Accuracy = 72.5% (145/200) (classification)\n",
            "Accuracy = 72.5% (145/200) (classification)\n",
            "Accuracy = 94% (188/200) (classification)\n",
            "Accuracy = 95% (190/200) (classification)\n",
            "Accuracy = 87.5% (175/200) (classification)\n",
            "Accuracy = 79.5% (159/200) (classification)\n",
            "Accuracy = 79.5% (159/200) (classification)\n",
            "Accuracy = 93.5% (187/200) (classification)\n",
            "Accuracy = 95% (190/200) (classification)\n",
            "Accuracy = 85.5% (171/200) (classification)\n",
            "Accuracy = 79% (158/200) (classification)\n",
            "Accuracy = 79% (158/200) (classification)\n",
            "Accuracy = 94.5% (189/200) (classification)\n",
            "Accuracy = 96.5% (193/200) (classification)\n",
            "Accuracy = 84% (168/200) (classification)\n",
            "Accuracy = 77.5% (155/200) (classification)\n",
            "Accuracy = 77.5% (155/200) (classification)\n",
            "Accuracy = 93% (186/200) (classification)\n",
            "Accuracy = 93.5% (187/200) (classification)\n",
            "Accuracy = 82% (164/200) (classification)\n",
            "Accuracy = 75% (150/200) (classification)\n",
            "Accuracy = 75% (150/200) (classification)\n",
            "Accuracy = 93% (186/200) (classification)\n",
            "Accuracy = 93.5% (187/200) (classification)\n",
            "Accuracy = 86.5% (173/200) (classification)\n",
            "Accuracy = 81.5% (163/200) (classification)\n",
            "Accuracy = 81.5% (163/200) (classification)\n",
            "Accuracy = 93.5% (187/200) (classification)\n",
            "Accuracy = 95% (190/200) (classification)\n",
            "Accuracy = 85% (170/200) (classification)\n",
            "Accuracy = 78.5% (157/200) (classification)\n",
            "Accuracy = 78.5% (157/200) (classification)\n",
            "Accuracy = 92% (184/200) (classification)\n",
            "Accuracy = 92% (184/200) (classification)\n",
            "Accuracy = 82% (164/200) (classification)\n",
            "Accuracy = 73.5% (147/200) (classification)\n",
            "Accuracy = 73.5% (147/200) (classification)\n",
            "Accuracy = 92% (184/200) (classification)\n",
            "Accuracy = 94% (188/200) (classification)\n",
            "Accuracy = 89.5% (179/200) (classification)\n",
            "Accuracy = 81% (162/200) (classification)\n",
            "Accuracy = 81% (162/200) (classification)\n",
            "Accuracy = 90.5% (181/200) (classification)\n",
            "Accuracy = 91.5% (183/200) (classification)\n",
            "Accuracy = 82.5% (165/200) (classification)\n",
            "Accuracy = 73.5% (147/200) (classification)\n",
            "Accuracy = 73.5% (147/200) (classification)\n",
            "Accuracy = 92.5% (185/200) (classification)\n",
            "Accuracy = 94.5% (189/200) (classification)\n",
            "Accuracy = 84.5% (169/200) (classification)\n",
            "Accuracy = 76% (152/200) (classification)\n",
            "Accuracy = 76% (152/200) (classification)\n",
            "Accuracy = 90.5% (181/200) (classification)\n",
            "Accuracy = 90% (180/200) (classification)\n",
            "Accuracy = 79.5% (159/200) (classification)\n",
            "Accuracy = 70.5% (141/200) (classification)\n",
            "Accuracy = 70.5% (141/200) (classification)\n",
            "Accuracy = 90.5% (181/200) (classification)\n",
            "Accuracy = 91% (182/200) (classification)\n",
            "Accuracy = 83% (166/200) (classification)\n",
            "Accuracy = 78% (156/200) (classification)\n",
            "Accuracy = 78% (156/200) (classification)\n",
            "Accuracy = 91.5% (183/200) (classification)\n",
            "Accuracy = 90.5% (181/200) (classification)\n",
            "Accuracy = 85% (170/200) (classification)\n",
            "Accuracy = 78% (156/200) (classification)\n",
            "Accuracy = 78% (156/200) (classification)\n",
            "{0.1: 27, 1: 73, 10: 0, 100: 0, 1000: 0}\n"
          ],
          "name": "stdout"
        }
      ]
    }
  ]
}