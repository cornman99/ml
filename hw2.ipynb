{
  "nbformat": 4,
  "nbformat_minor": 0,
  "metadata": {
    "colab": {
      "name": "hw2.ipynb",
      "provenance": []
    },
    "kernelspec": {
      "name": "python3",
      "display_name": "Python 3"
    },
    "accelerator": "GPU"
  },
  "cells": [
    {
      "cell_type": "markdown",
      "metadata": {
        "id": "xyF1U12arwFv"
      },
      "source": [
        "16\n",
        "\n",
        "\n",
        "\n",
        "\n"
      ]
    },
    {
      "cell_type": "code",
      "metadata": {
        "id": "8ObSOY0LWvxj",
        "colab": {
          "base_uri": "https://localhost:8080/"
        },
        "outputId": "2276ac66-26a4-4be7-d946-bf0461e49143"
      },
      "source": [
        "import numpy as np\n",
        "import random\n",
        "def randexp(s,num):\n",
        "    k=[]\n",
        "    for i in range(num):\n",
        "        k.append(random.uniform(-1, 1))\n",
        "    return k\n",
        "mean=0\n",
        "for u in range(10000):\n",
        "\n",
        "    randlist=[]\n",
        "    ein=randexp(0,2)\n",
        "    randlist.append([1,(ein[0]+ein[1])/2,0])\n",
        "    randlist.append([-1,(ein[0]+ein[1])/2,0])\n",
        "    randlist.append([1,-1,0])\n",
        "    randlist.append([-1,-1,0])\n",
        "    for j in randlist:\n",
        "        for l in ein:\n",
        "            if (j[0]*(l-j[1]))*(l)<0:\n",
        "                j[2]+=1\n",
        "    min=3\n",
        "    minum=0\n",
        "    for j in range(len(randlist)):\n",
        "        if min>randlist[j][2]:\n",
        "            min=randlist[j][2]\n",
        "            minum=j\n",
        "\n",
        "\n",
        "\n",
        "    mean+=abs(randlist[minum][1])/2\n",
        "print(mean/10000)"
      ],
      "execution_count": null,
      "outputs": [
        {
          "output_type": "stream",
          "text": [
            "0.2915710778708071\n"
          ],
          "name": "stdout"
        }
      ]
    },
    {
      "cell_type": "markdown",
      "metadata": {
        "id": "sNcqOHkar4_G"
      },
      "source": [
        "17"
      ]
    },
    {
      "cell_type": "code",
      "metadata": {
        "id": "FORGmin3r3MJ",
        "colab": {
          "base_uri": "https://localhost:8080/"
        },
        "outputId": "8e71a0ea-fbc6-41d3-e81f-e8650680dbbc"
      },
      "source": [
        "import numpy as np\n",
        "import random\n",
        "def randexp(s,num):\n",
        "    k=[]\n",
        "    for i in range(num):\n",
        "        k.append(random.uniform(-1, 1))\n",
        "    return k\n",
        "mean=0\n",
        "for u in range(10000):\n",
        "    randlist=[]\n",
        "    ein=randexp(0,20)\n",
        "    ein.sort()\n",
        "    for i in range(19):\n",
        "        randlist.append([1,(ein[i]+ein[i+1])/2,0])\n",
        "        randlist.append([-1,(ein[i]+ein[i+1])/2,0])\n",
        "    randlist.append([1,-1,0])\n",
        "    randlist.append([-1,-1,0])\n",
        "    \n",
        "    for j in randlist:\n",
        "        for l in ein:\n",
        "            if (j[0]*(l-j[1]))*(l)<0:\n",
        "                j[2]+=1\n",
        "    min=21\n",
        "    minum=0\n",
        "    \n",
        "    \n",
        "    for j in range(len(randlist)):\n",
        "        if min>randlist[j][2]:\n",
        "            min=randlist[j][2]\n",
        "            minum=j\n",
        "    \n",
        "    \n",
        "\n",
        "    mean+=abs(randlist[minum][1])/2\n",
        "print(mean/10000)"
      ],
      "execution_count": null,
      "outputs": [
        {
          "output_type": "stream",
          "text": [
            "0.023933119789947197\n"
          ],
          "name": "stdout"
        }
      ]
    },
    {
      "cell_type": "markdown",
      "metadata": {
        "id": "iolnfGgfc9_g"
      },
      "source": [
        "18"
      ]
    },
    {
      "cell_type": "code",
      "metadata": {
        "id": "XfrwsAo8ZpfX",
        "colab": {
          "base_uri": "https://localhost:8080/"
        },
        "outputId": "fb896614-4985-462d-e0d6-129f84af27a3"
      },
      "source": [
        "import numpy as np\n",
        "import random\n",
        "import math\n",
        "def randexp(s,num):\n",
        "    k=[]\n",
        "    for i in range(num):\n",
        "        k.append(random.uniform(-1, 1))\n",
        "    return k\n",
        "mean=0\n",
        "for u in range(10000):\n",
        "    randlist=[]\n",
        "    ein=randexp(0,2)\n",
        "    y=[]\n",
        "    for i in range(2):\n",
        "        q=random.uniform(0, 1)\n",
        "        if q<=0.1:\n",
        "            y.append(-ein[i])\n",
        "\n",
        "        else :\n",
        "            y.append(ein[i])\n",
        "    randlist.append([1,(ein[0]+ein[1])/2,0])\n",
        "    randlist.append([-1,(ein[0]+ein[1])/2,0])\n",
        "    randlist.append([1,-1,0])\n",
        "    randlist.append([-1,-1,0])\n",
        "    for j in randlist:\n",
        "        for l in range(len(ein)):\n",
        "            if (j[0]*(ein[l]-j[1]))*(y[l])<0:\n",
        "                j[2]+=1\n",
        "    min=3\n",
        "    minum=0\n",
        "    for j in range(len(randlist)):\n",
        "        if min>randlist[j][2]:\n",
        "            min=randlist[j][2]\n",
        "            minum=j\n",
        "    if (randlist[minum][0]==1): \n",
        "        mean+=abs(randlist[minum][1])/2\n",
        "    else:\n",
        "        mean+=1-(abs(randlist[minum][1])/2)\n",
        "print(mean/10000)"
      ],
      "execution_count": null,
      "outputs": [
        {
          "output_type": "stream",
          "text": [
            "0.33302178092714785\n"
          ],
          "name": "stdout"
        }
      ]
    },
    {
      "cell_type": "markdown",
      "metadata": {
        "id": "3RohCiwtdBds"
      },
      "source": [
        "19"
      ]
    },
    {
      "cell_type": "code",
      "metadata": {
        "id": "yNn3rXDIc8nT",
        "colab": {
          "base_uri": "https://localhost:8080/"
        },
        "outputId": "851048b1-0995-4f3c-fb05-9b59e387128e"
      },
      "source": [
        "import numpy as np\n",
        "import random\n",
        "import math\n",
        "def randexp(s,num):\n",
        "    k=[]\n",
        "    for i in range(num):\n",
        "        k.append(random.uniform(-1, 1))\n",
        "    return k\n",
        "mean=0\n",
        "einmean=0\n",
        "for u in range(10000):\n",
        "    randlist=[]\n",
        "    ein=randexp(0,20)\n",
        "    ein.sort()\n",
        "    y=[]\n",
        "    for i in range(20):\n",
        "        q=random.uniform(0, 1)\n",
        "        if q<=0.1:\n",
        "            y.append(-(math.copysign(1,ein[i])))\n",
        "\n",
        "        else :\n",
        "            y.append(math.copysign(1,ein[i]))\n",
        "    for i in range(19):\n",
        "        randlist.append([1,(ein[i]+ein[i+1])/2,0])\n",
        "        randlist.append([-1,(ein[i]+ein[i+1])/2,0])\n",
        "    randlist.append([1,-1,0])\n",
        "    randlist.append([-1,-1,0])\n",
        "    for j in randlist:\n",
        "        for l in range(len(ein)):\n",
        "            if (j[0]*(ein[l]-j[1]))*(y[l])<0:\n",
        "                j[2]+=1\n",
        "    min=21\n",
        "    minum=0\n",
        "    for j in range(len(randlist)):\n",
        "        if min>randlist[j][2]:\n",
        "            min=randlist[j][2]\n",
        "            minum=j\n",
        "        elif min==randlist[j][2] and randlist[minum][0]+randlist[minum][1]>randlist[j][0]+randlist[j][1] :\n",
        "            min=randlist[j][2]\n",
        "            minum=j\n",
        "    if (randlist[minum][0]==1): \n",
        "        mean+=abs(randlist[minum][1])/2\n",
        "    elif randlist[minum][0]==-1:   \n",
        "        mean+=1-(abs(randlist[minum][1])/2)\n",
        "    einmean+=randlist[minum][2]/20\n",
        "\n",
        "print(mean/10000)\n",
        "print(einmean/10000)"
      ],
      "execution_count": null,
      "outputs": [
        {
          "output_type": "stream",
          "text": [
            "0.0481120007414345\n",
            "0.08774499999999835\n"
          ],
          "name": "stdout"
        }
      ]
    },
    {
      "cell_type": "markdown",
      "metadata": {
        "id": "y8QCvvPCmyAN"
      },
      "source": [
        "20"
      ]
    },
    {
      "cell_type": "code",
      "metadata": {
        "id": "tNvBWaUSmcoa",
        "colab": {
          "base_uri": "https://localhost:8080/"
        },
        "outputId": "cbff0ecb-ec53-4a9c-d1ae-193280581d76"
      },
      "source": [
        "import numpy as np\n",
        "import random\n",
        "import math\n",
        "def randexp(s,num):\n",
        "    k=[]\n",
        "    for i in range(num):\n",
        "        k.append(random.uniform(-1, 1))\n",
        "    return k\n",
        "mean=0\n",
        "einmean=0\n",
        "for u in range(10000):\n",
        "    randlist=[]\n",
        "    ein=randexp(0,200)\n",
        "    ein.sort()\n",
        "    y=[]\n",
        "    for i in range(200):\n",
        "        q=random.uniform(0, 1)\n",
        "        if q<=0.1:\n",
        "            y.append(-(math.copysign(1,ein[i])))\n",
        "\n",
        "        else :\n",
        "            y.append(math.copysign(1,ein[i]))\n",
        "    for i in range(199):\n",
        "        randlist.append([1,(ein[i]+ein[i+1])/2,0])\n",
        "        randlist.append([-1,(ein[i]+ein[i+1])/2,0])\n",
        "    randlist.append([1,-1,0])\n",
        "    randlist.append([-1,-1,0])\n",
        "    for j in randlist:\n",
        "        for l in range(len(ein)):\n",
        "            if (j[0]*(ein[l]-j[1]))*(y[l])<0:\n",
        "                j[2]+=1\n",
        "    min=201\n",
        "    minum=0\n",
        "    for j in range(len(randlist)):\n",
        "        if min>randlist[j][2]:\n",
        "            min=randlist[j][2]\n",
        "            minum=j\n",
        "        elif min==randlist[j][2] and randlist[minum][0]+randlist[minum][1]>randlist[j][0]+randlist[j][1] :\n",
        "            minum=j\n",
        "    if (randlist[minum][0]==1): \n",
        "        mean+=abs(randlist[minum][1])/2\n",
        "\n",
        "    else:\n",
        "        mean+=1-(abs(randlist[minum][1])/2)\n",
        "\n",
        "    einmean+=randlist[minum][2]/200\n",
        "    \n",
        "print(mean/10000)\n",
        "print(einmean/10000)"
      ],
      "execution_count": null,
      "outputs": [
        {
          "output_type": "stream",
          "text": [
            "0.00519066331939863\n",
            "0.09854800000000978\n"
          ],
          "name": "stdout"
        }
      ]
    }
  ]
}